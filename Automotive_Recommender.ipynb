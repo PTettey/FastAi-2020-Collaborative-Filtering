{
  "nbformat": 4,
  "nbformat_minor": 0,
  "metadata": {
    "colab": {
      "name": "Automotive Recommender.ipynb",
      "provenance": [],
      "collapsed_sections": [],
      "authorship_tag": "ABX9TyPqoSyDwd0n9JdLPr81a5lX",
      "include_colab_link": true
    },
    "kernelspec": {
      "name": "python3",
      "display_name": "Python 3"
    },
    "language_info": {
      "name": "python"
    },
    "accelerator": "GPU"
  },
  "cells": [
    {
      "cell_type": "markdown",
      "metadata": {
        "id": "view-in-github",
        "colab_type": "text"
      },
      "source": [
        "<a href=\"https://colab.research.google.com/github/PTettey/Recommender-FastAi/blob/master/Automotive_Recommender.ipynb\" target=\"_parent\"><img src=\"https://colab.research.google.com/assets/colab-badge.svg\" alt=\"Open In Colab\"/></a>"
      ]
    },
    {
      "cell_type": "code",
      "metadata": {
        "id": "Bo_VJZ50GiQK",
        "colab": {
          "base_uri": "https://localhost:8080/"
        },
        "outputId": "8e1b29f2-d44b-4663-d533-ccd9822100f3"
      },
      "source": [
        "#hide\n",
        "!pip install -Uqq fastbook\n",
        "import fastbook\n",
        "fastbook.setup_book()"
      ],
      "execution_count": 1,
      "outputs": [
        {
          "output_type": "stream",
          "text": [
            "\u001b[K     |████████████████████████████████| 727kB 8.7MB/s \n",
            "\u001b[K     |████████████████████████████████| 194kB 16.7MB/s \n",
            "\u001b[K     |████████████████████████████████| 51kB 8.3MB/s \n",
            "\u001b[K     |████████████████████████████████| 1.2MB 35.2MB/s \n",
            "\u001b[K     |████████████████████████████████| 776.8MB 23kB/s \n",
            "\u001b[K     |████████████████████████████████| 12.8MB 249kB/s \n",
            "\u001b[K     |████████████████████████████████| 61kB 9.5MB/s \n",
            "\u001b[K     |████████████████████████████████| 51kB 9.1MB/s \n",
            "\u001b[31mERROR: torchtext 0.9.1 has requirement torch==1.8.1, but you'll have torch 1.7.1 which is incompatible.\u001b[0m\n",
            "\u001b[?25hMounted at /content/gdrive\n"
          ],
          "name": "stdout"
        }
      ]
    },
    {
      "cell_type": "code",
      "metadata": {
        "id": "MgeGlC1RgdqH"
      },
      "source": [
        "#hide\n",
        "from fastbook import *"
      ],
      "execution_count": 2,
      "outputs": []
    },
    {
      "cell_type": "markdown",
      "metadata": {
        "id": "elp1jReQg4Pc"
      },
      "source": [
        "## A Look at the Data\n",
        "\n",
        "The data used for this exercise was from the Amazon Product Data. The original datasets contains product reviews and metadata from Amazon.\n",
        "\n",
        "This includes reviews in the form of ratings, text and helpfulness votes. It also has product metadata (descriptions, category information, price, brand, and image features), and links.\n",
        "\n",
        "We however choose the Automotive Ratings dataset from the \"small\" Subset Experimentation files.\n",
        "\n",
        "\n"
      ]
    },
    {
      "cell_type": "code",
      "metadata": {
        "id": "MgmIbSXqGiQW"
      },
      "source": [
        "from fastai.collab import *\n",
        "from fastai.tabular.all import *\n",
        "path = Path('/content/gdrive/MyDrive/fastai-v3/data/Automotive')"
      ],
      "execution_count": 3,
      "outputs": []
    },
    {
      "cell_type": "code",
      "metadata": {
        "colab": {
          "base_uri": "https://localhost:8080/"
        },
        "id": "04UKU1O8bOhm",
        "outputId": "aef58d89-c9de-42a6-bada-ddc3b5751650"
      },
      "source": [
        "path.ls()"
      ],
      "execution_count": 4,
      "outputs": [
        {
          "output_type": "execute_result",
          "data": {
            "text/plain": [
              "(#1) [Path('/content/gdrive/MyDrive/fastai-v3/data/Automotive/Automotive.csv')]"
            ]
          },
          "metadata": {
            "tags": []
          },
          "execution_count": 4
        }
      ]
    },
    {
      "cell_type": "markdown",
      "metadata": {
        "id": "Xq-WLykq89Mp"
      },
      "source": [
        "Unlike the [MovieLens](https://grouplens.org/datasets/movielens/) dataset used in the __FastAi__ lesson, this Subset dataset contians 7990166 rows and 4 columns. The made up of `Item`,`User`,`Rating` and `Timestamp` respectively.\n",
        "\n",
        "`Item` provided the product IDs. The IDs are alphanumeric.\n",
        "\n",
        "`User` column gave the IDs for the users. Just like the Items, the User IDs are also alphanumeric.\n",
        "\n",
        "`Rating` column contained the ratings given by the users. The ratings ranges from 1.0 to 5.0\n",
        " \n",
        " and the `Timestamp` gave the time at which said ratings took place."
      ]
    },
    {
      "cell_type": "code",
      "metadata": {
        "id": "xt4BrLNyibSO",
        "colab": {
          "base_uri": "https://localhost:8080/",
          "height": 359
        },
        "outputId": "14da32d4-43f8-4bd1-8cbb-24a4a66357ad"
      },
      "source": [
        "data = pd.read_csv(\"/content/gdrive/MyDrive/fastai-v3/data/Automotive/Automotive.csv\", header=None,\n",
        "                      names=['Item','User','Rating','Timestamp'])\n",
        "data.head(10)"
      ],
      "execution_count": 5,
      "outputs": [
        {
          "output_type": "execute_result",
          "data": {
            "text/html": [
              "<div>\n",
              "<style scoped>\n",
              "    .dataframe tbody tr th:only-of-type {\n",
              "        vertical-align: middle;\n",
              "    }\n",
              "\n",
              "    .dataframe tbody tr th {\n",
              "        vertical-align: top;\n",
              "    }\n",
              "\n",
              "    .dataframe thead th {\n",
              "        text-align: right;\n",
              "    }\n",
              "</style>\n",
              "<table border=\"1\" class=\"dataframe\">\n",
              "  <thead>\n",
              "    <tr style=\"text-align: right;\">\n",
              "      <th></th>\n",
              "      <th>Item</th>\n",
              "      <th>User</th>\n",
              "      <th>Rating</th>\n",
              "      <th>Timestamp</th>\n",
              "    </tr>\n",
              "  </thead>\n",
              "  <tbody>\n",
              "    <tr>\n",
              "      <th>0</th>\n",
              "      <td>0209688726</td>\n",
              "      <td>A3ELV1VUCZZGL4</td>\n",
              "      <td>4.0</td>\n",
              "      <td>1439337600</td>\n",
              "    </tr>\n",
              "    <tr>\n",
              "      <th>1</th>\n",
              "      <td>0209688726</td>\n",
              "      <td>A2FD3FZ2WV6KHQ</td>\n",
              "      <td>2.0</td>\n",
              "      <td>1439337600</td>\n",
              "    </tr>\n",
              "    <tr>\n",
              "      <th>2</th>\n",
              "      <td>0209688726</td>\n",
              "      <td>A39NRKABAVSVSE</td>\n",
              "      <td>2.0</td>\n",
              "      <td>1439251200</td>\n",
              "    </tr>\n",
              "    <tr>\n",
              "      <th>3</th>\n",
              "      <td>0209688726</td>\n",
              "      <td>AQSBL5KODHSGW</td>\n",
              "      <td>5.0</td>\n",
              "      <td>1438128000</td>\n",
              "    </tr>\n",
              "    <tr>\n",
              "      <th>4</th>\n",
              "      <td>0209688726</td>\n",
              "      <td>AU45OQPK2J5JF</td>\n",
              "      <td>5.0</td>\n",
              "      <td>1436572800</td>\n",
              "    </tr>\n",
              "    <tr>\n",
              "      <th>5</th>\n",
              "      <td>0209688726</td>\n",
              "      <td>A5TACMBV2GTBS</td>\n",
              "      <td>5.0</td>\n",
              "      <td>1433980800</td>\n",
              "    </tr>\n",
              "    <tr>\n",
              "      <th>6</th>\n",
              "      <td>0209688726</td>\n",
              "      <td>A8WEXFRWX1ZHH</td>\n",
              "      <td>4.0</td>\n",
              "      <td>1430438400</td>\n",
              "    </tr>\n",
              "    <tr>\n",
              "      <th>7</th>\n",
              "      <td>0209688726</td>\n",
              "      <td>A262RPUOSCPP51</td>\n",
              "      <td>5.0</td>\n",
              "      <td>1524182400</td>\n",
              "    </tr>\n",
              "    <tr>\n",
              "      <th>8</th>\n",
              "      <td>0209688726</td>\n",
              "      <td>ABRUILETFGA81</td>\n",
              "      <td>5.0</td>\n",
              "      <td>1524096000</td>\n",
              "    </tr>\n",
              "    <tr>\n",
              "      <th>9</th>\n",
              "      <td>0209688726</td>\n",
              "      <td>ABCA1A8E4DGV1</td>\n",
              "      <td>1.0</td>\n",
              "      <td>1524096000</td>\n",
              "    </tr>\n",
              "  </tbody>\n",
              "</table>\n",
              "</div>"
            ],
            "text/plain": [
              "         Item            User  Rating   Timestamp\n",
              "0  0209688726  A3ELV1VUCZZGL4     4.0  1439337600\n",
              "1  0209688726  A2FD3FZ2WV6KHQ     2.0  1439337600\n",
              "2  0209688726  A39NRKABAVSVSE     2.0  1439251200\n",
              "3  0209688726   AQSBL5KODHSGW     5.0  1438128000\n",
              "4  0209688726   AU45OQPK2J5JF     5.0  1436572800\n",
              "5  0209688726   A5TACMBV2GTBS     5.0  1433980800\n",
              "6  0209688726   A8WEXFRWX1ZHH     4.0  1430438400\n",
              "7  0209688726  A262RPUOSCPP51     5.0  1524182400\n",
              "8  0209688726   ABRUILETFGA81     5.0  1524096000\n",
              "9  0209688726   ABCA1A8E4DGV1     1.0  1524096000"
            ]
          },
          "metadata": {
            "tags": []
          },
          "execution_count": 5
        }
      ]
    },
    {
      "cell_type": "code",
      "metadata": {
        "id": "2shjZq9Mk-tM",
        "colab": {
          "base_uri": "https://localhost:8080/"
        },
        "outputId": "3eccabb7-80ad-4a35-8ccb-2d232ba5828e"
      },
      "source": [
        "len(data)"
      ],
      "execution_count": 6,
      "outputs": [
        {
          "output_type": "execute_result",
          "data": {
            "text/plain": [
              "7990166"
            ]
          },
          "metadata": {
            "tags": []
          },
          "execution_count": 6
        }
      ]
    },
    {
      "cell_type": "markdown",
      "metadata": {
        "id": "yiL2xIQ5__UY"
      },
      "source": [
        "We tried using the total data for this. It however took forever to run, so we decided to resize it down and use a much smaller sample size.\n",
        "\n",
        "We reduced the number of rows to 800000. We also reordered the columns and placed the `User` column before the `Item` column."
      ]
    },
    {
      "cell_type": "code",
      "metadata": {
        "id": "r33ryGqytogI"
      },
      "source": [
        "Sample_data = data.sample(n = 800000)"
      ],
      "execution_count": 7,
      "outputs": []
    },
    {
      "cell_type": "code",
      "metadata": {
        "colab": {
          "base_uri": "https://localhost:8080/"
        },
        "id": "mHSfpnmhvDU_",
        "outputId": "29c0e54e-f46a-440d-83e9-6fb160dae636"
      },
      "source": [
        "len(Sample_data)"
      ],
      "execution_count": 8,
      "outputs": [
        {
          "output_type": "execute_result",
          "data": {
            "text/plain": [
              "800000"
            ]
          },
          "metadata": {
            "tags": []
          },
          "execution_count": 8
        }
      ]
    },
    {
      "cell_type": "code",
      "metadata": {
        "id": "9XqOgBHflmur"
      },
      "source": [
        "Sample_data_reorder = Sample_data[['User','Item','Rating','Timestamp']] "
      ],
      "execution_count": 9,
      "outputs": []
    },
    {
      "cell_type": "code",
      "metadata": {
        "colab": {
          "base_uri": "https://localhost:8080/",
          "height": 204
        },
        "id": "XlOrQmLHKUmN",
        "outputId": "4a3c5302-2a18-4195-b4e7-7ad35c14afc7"
      },
      "source": [
        "Sample_data_reorder.head()"
      ],
      "execution_count": 10,
      "outputs": [
        {
          "output_type": "execute_result",
          "data": {
            "text/html": [
              "<div>\n",
              "<style scoped>\n",
              "    .dataframe tbody tr th:only-of-type {\n",
              "        vertical-align: middle;\n",
              "    }\n",
              "\n",
              "    .dataframe tbody tr th {\n",
              "        vertical-align: top;\n",
              "    }\n",
              "\n",
              "    .dataframe thead th {\n",
              "        text-align: right;\n",
              "    }\n",
              "</style>\n",
              "<table border=\"1\" class=\"dataframe\">\n",
              "  <thead>\n",
              "    <tr style=\"text-align: right;\">\n",
              "      <th></th>\n",
              "      <th>User</th>\n",
              "      <th>Item</th>\n",
              "      <th>Rating</th>\n",
              "      <th>Timestamp</th>\n",
              "    </tr>\n",
              "  </thead>\n",
              "  <tbody>\n",
              "    <tr>\n",
              "      <th>2555848</th>\n",
              "      <td>A1N0VCS41TGZF0</td>\n",
              "      <td>B007ECFURK</td>\n",
              "      <td>5.0</td>\n",
              "      <td>1440201600</td>\n",
              "    </tr>\n",
              "    <tr>\n",
              "      <th>427995</th>\n",
              "      <td>A28HU2E2Y0OTLJ</td>\n",
              "      <td>B000BYB2K2</td>\n",
              "      <td>5.0</td>\n",
              "      <td>1396224000</td>\n",
              "    </tr>\n",
              "    <tr>\n",
              "      <th>4967238</th>\n",
              "      <td>APV7YI6K3PL8M</td>\n",
              "      <td>B00062YNBE</td>\n",
              "      <td>5.0</td>\n",
              "      <td>1372032000</td>\n",
              "    </tr>\n",
              "    <tr>\n",
              "      <th>6717806</th>\n",
              "      <td>A3TTAJQUAX117Q</td>\n",
              "      <td>B00F3I14WC</td>\n",
              "      <td>5.0</td>\n",
              "      <td>1471219200</td>\n",
              "    </tr>\n",
              "    <tr>\n",
              "      <th>1201487</th>\n",
              "      <td>ANIZGD7L3LULC</td>\n",
              "      <td>B000W0KTMW</td>\n",
              "      <td>1.0</td>\n",
              "      <td>1369094400</td>\n",
              "    </tr>\n",
              "  </tbody>\n",
              "</table>\n",
              "</div>"
            ],
            "text/plain": [
              "                   User        Item  Rating   Timestamp\n",
              "2555848  A1N0VCS41TGZF0  B007ECFURK     5.0  1440201600\n",
              "427995   A28HU2E2Y0OTLJ  B000BYB2K2     5.0  1396224000\n",
              "4967238   APV7YI6K3PL8M  B00062YNBE     5.0  1372032000\n",
              "6717806  A3TTAJQUAX117Q  B00F3I14WC     5.0  1471219200\n",
              "1201487   ANIZGD7L3LULC  B000W0KTMW     1.0  1369094400"
            ]
          },
          "metadata": {
            "tags": []
          },
          "execution_count": 10
        }
      ]
    },
    {
      "cell_type": "markdown",
      "metadata": {
        "id": "MdT7wXaknIon"
      },
      "source": [
        "# Recommend with Collaborative Filtering\n",
        "\n"
      ]
    },
    {
      "cell_type": "markdown",
      "metadata": {
        "id": "keQbGskBz5Tp"
      },
      "source": [
        "## Creating the Dataloaders\n",
        "\n",
        "We can then build a `DataLoaders` object from this table. By default, it takes the first column for the __User__, the second column for the __Item__, and the third column for the __Rating__. \n",
        "\n",
        "We decided to use a batch size of 64."
      ]
    },
    {
      "cell_type": "code",
      "metadata": {
        "id": "t_h3LKAklPtj",
        "colab": {
          "base_uri": "https://localhost:8080/",
          "height": 359
        },
        "outputId": "29135346-b04d-4ea6-aaa6-a510f2b9320b"
      },
      "source": [
        "dls = CollabDataLoaders.from_df(Sample_data_reorder, bs = 64)\n",
        "dls.show_batch()"
      ],
      "execution_count": 13,
      "outputs": [
        {
          "output_type": "display_data",
          "data": {
            "text/html": [
              "<table border=\"1\" class=\"dataframe\">\n",
              "  <thead>\n",
              "    <tr style=\"text-align: right;\">\n",
              "      <th></th>\n",
              "      <th>User</th>\n",
              "      <th>Item</th>\n",
              "      <th>Rating</th>\n",
              "    </tr>\n",
              "  </thead>\n",
              "  <tbody>\n",
              "    <tr>\n",
              "      <th>0</th>\n",
              "      <td>AEHGZNP1BR478</td>\n",
              "      <td>B00MQ1D7M4</td>\n",
              "      <td>5.0</td>\n",
              "    </tr>\n",
              "    <tr>\n",
              "      <th>1</th>\n",
              "      <td>ANFWEHA8U4LJB</td>\n",
              "      <td>B00QXXVPF2</td>\n",
              "      <td>5.0</td>\n",
              "    </tr>\n",
              "    <tr>\n",
              "      <th>2</th>\n",
              "      <td>A1QR6C8ISNV99N</td>\n",
              "      <td>B00FSU1SQM</td>\n",
              "      <td>5.0</td>\n",
              "    </tr>\n",
              "    <tr>\n",
              "      <th>3</th>\n",
              "      <td>A2UBBI4DWVAWP5</td>\n",
              "      <td>B014FFQJEG</td>\n",
              "      <td>5.0</td>\n",
              "    </tr>\n",
              "    <tr>\n",
              "      <th>4</th>\n",
              "      <td>A19DR0R9U9R2HS</td>\n",
              "      <td>B004YGRL62</td>\n",
              "      <td>5.0</td>\n",
              "    </tr>\n",
              "    <tr>\n",
              "      <th>5</th>\n",
              "      <td>A2490DCYUQ359U</td>\n",
              "      <td>B00F3W06CM</td>\n",
              "      <td>5.0</td>\n",
              "    </tr>\n",
              "    <tr>\n",
              "      <th>6</th>\n",
              "      <td>A3N1I9CJIDPGJ0</td>\n",
              "      <td>B009YYVSZO</td>\n",
              "      <td>3.0</td>\n",
              "    </tr>\n",
              "    <tr>\n",
              "      <th>7</th>\n",
              "      <td>A1HUEPDNAZF8S1</td>\n",
              "      <td>B009XOTRBM</td>\n",
              "      <td>5.0</td>\n",
              "    </tr>\n",
              "    <tr>\n",
              "      <th>8</th>\n",
              "      <td>A7JNL4W2OGCDZ</td>\n",
              "      <td>B000CPJMCU</td>\n",
              "      <td>2.0</td>\n",
              "    </tr>\n",
              "    <tr>\n",
              "      <th>9</th>\n",
              "      <td>A1Z8BN4PPX6H9Z</td>\n",
              "      <td>B01EJ08A44</td>\n",
              "      <td>3.0</td>\n",
              "    </tr>\n",
              "  </tbody>\n",
              "</table>"
            ],
            "text/plain": [
              "<IPython.core.display.HTML object>"
            ]
          },
          "metadata": {
            "tags": []
          }
        }
      ]
    },
    {
      "cell_type": "code",
      "metadata": {
        "id": "BIePoI8vlQ7F"
      },
      "source": [
        "y_range = [0.5,5.5]"
      ],
      "execution_count": 24,
      "outputs": []
    },
    {
      "cell_type": "code",
      "metadata": {
        "id": "No0CgaNkLHx7"
      },
      "source": [
        "learn = collab_learner(dls, n_factors=50, y_range=y_range, wd=1e-1)"
      ],
      "execution_count": 25,
      "outputs": []
    },
    {
      "cell_type": "markdown",
      "metadata": {
        "id": "-RFCC6DPBmqm"
      },
      "source": [
        "To get better results, we tried using the Y range. This is what makes the final activation a sigmoid function. This helps make prediction within the specified range.\n",
        "\n",
        "To use sigmoid function and stay withing the range, we extend and/or reduce the Y range. The lowest rating for this dataset set is 1 and the highest is 5. We therefore choose a range between 0.5 to 5.5.\n",
        "\n",
        "We also add a Weight decay of `1e-1` to help avoid overfitting."
      ]
    },
    {
      "cell_type": "code",
      "metadata": {
        "colab": {
          "base_uri": "https://localhost:8080/",
          "height": 204
        },
        "id": "Nv43p9ZrLthm",
        "outputId": "d9b2b970-7a73-4a13-84c5-2fab5d3d4f60"
      },
      "source": [
        "learn.fit_one_cycle(5, 5e-3)"
      ],
      "execution_count": 26,
      "outputs": [
        {
          "output_type": "display_data",
          "data": {
            "text/html": [
              "<table border=\"1\" class=\"dataframe\">\n",
              "  <thead>\n",
              "    <tr style=\"text-align: left;\">\n",
              "      <th>epoch</th>\n",
              "      <th>train_loss</th>\n",
              "      <th>valid_loss</th>\n",
              "      <th>time</th>\n",
              "    </tr>\n",
              "  </thead>\n",
              "  <tbody>\n",
              "    <tr>\n",
              "      <td>0</td>\n",
              "      <td>2.939244</td>\n",
              "      <td>2.947483</td>\n",
              "      <td>04:26</td>\n",
              "    </tr>\n",
              "    <tr>\n",
              "      <td>1</td>\n",
              "      <td>2.919961</td>\n",
              "      <td>2.924299</td>\n",
              "      <td>04:25</td>\n",
              "    </tr>\n",
              "    <tr>\n",
              "      <td>2</td>\n",
              "      <td>2.918597</td>\n",
              "      <td>2.920055</td>\n",
              "      <td>04:25</td>\n",
              "    </tr>\n",
              "    <tr>\n",
              "      <td>3</td>\n",
              "      <td>2.867791</td>\n",
              "      <td>2.916124</td>\n",
              "      <td>04:26</td>\n",
              "    </tr>\n",
              "    <tr>\n",
              "      <td>4</td>\n",
              "      <td>2.761037</td>\n",
              "      <td>2.915778</td>\n",
              "      <td>04:26</td>\n",
              "    </tr>\n",
              "  </tbody>\n",
              "</table>"
            ],
            "text/plain": [
              "<IPython.core.display.HTML object>"
            ]
          },
          "metadata": {
            "tags": []
          }
        }
      ]
    },
    {
      "cell_type": "code",
      "metadata": {
        "colab": {
          "base_uri": "https://localhost:8080/"
        },
        "id": "hzvfPtsivhHG",
        "outputId": "0b1c371c-6bdd-4211-adf9-8bc1aabfec53"
      },
      "source": [
        "learn.save('Automotive-ratings')"
      ],
      "execution_count": 27,
      "outputs": [
        {
          "output_type": "execute_result",
          "data": {
            "text/plain": [
              "Path('models/Automotive-ratings.pth')"
            ]
          },
          "metadata": {
            "tags": []
          },
          "execution_count": 27
        }
      ]
    },
    {
      "cell_type": "code",
      "metadata": {
        "colab": {
          "base_uri": "https://localhost:8080/"
        },
        "id": "Fkzj3mHOEWAF",
        "outputId": "508cb071-ed29-4bd0-94d1-9446311589f1"
      },
      "source": [
        "learn.model"
      ],
      "execution_count": 28,
      "outputs": [
        {
          "output_type": "execute_result",
          "data": {
            "text/plain": [
              "EmbeddingDotBias(\n",
              "  (u_weight): Embedding(665054, 50)\n",
              "  (i_weight): Embedding(266524, 50)\n",
              "  (u_bias): Embedding(665054, 1)\n",
              "  (i_bias): Embedding(266524, 1)\n",
              ")"
            ]
          },
          "metadata": {
            "tags": []
          },
          "execution_count": 28
        }
      ]
    },
    {
      "cell_type": "markdown",
      "metadata": {
        "id": "mDOpMN3SDE4Q"
      },
      "source": [
        "## Intepreting Bias\n",
        "\n",
        "The Embeddings should contain some interesting feature which we can extract to have a better insight.\n",
        "\n",
        "We will extract the biases as well as their mean ratings in order to get informations about Automotives that are generally rated low or high no matter what user is rating them."
      ]
    },
    {
      "cell_type": "code",
      "metadata": {
        "colab": {
          "base_uri": "https://localhost:8080/"
        },
        "id": "2oAuT6FSEbQl",
        "outputId": "35c58ff3-6556-420f-c00c-73b45d53803d"
      },
      "source": [
        "Bias = learn.model.i_bias.weight.squeeze()\n",
        "idxs = Bias.argsort(descending=True)[:5]\n",
        "[dls.classes['Item'][i] for i in idxs]"
      ],
      "execution_count": 29,
      "outputs": [
        {
          "output_type": "execute_result",
          "data": {
            "text/plain": [
              "['B014TZAUU6', 'B00068XCQU', 'B000KPU8F2', 'B000CITK8S', 'B0015Y5848']"
            ]
          },
          "metadata": {
            "tags": []
          },
          "execution_count": 29
        }
      ]
    },
    {
      "cell_type": "code",
      "metadata": {
        "colab": {
          "base_uri": "https://localhost:8080/"
        },
        "id": "wJv0OOdm11Jx",
        "outputId": "21e4d71a-2d55-4b9a-f20f-451a4298e2b0"
      },
      "source": [
        "Bias = learn.model.i_bias.weight.squeeze()\n",
        "idxs = Bias.argsort(descending=False)[:5]\n",
        "[dls.classes['Item'][i] for i in idxs]"
      ],
      "execution_count": 30,
      "outputs": [
        {
          "output_type": "execute_result",
          "data": {
            "text/plain": [
              "['B003NU0EM8', 'B00ZVJ32QE', 'B0015D88U0', 'B01GCB730U', 'B00BCRMBGQ']"
            ]
          },
          "metadata": {
            "tags": []
          },
          "execution_count": 30
        }
      ]
    },
    {
      "cell_type": "markdown",
      "metadata": {
        "id": "c612eEbbE6Ao"
      },
      "source": [
        "So the top thousand are the automotive that have been rated the most, and so there hopefully automotive that we might have seen.That's the only reason I'm doing this. So I've called this `top_automotive` by which I mean not good automotive, just automotive we likely to have seen.\n",
        "\n",
        "Not surprisingly, Star Wars is the one, at that point, the most people had put a rating to. Independence Day, there you go. We can then take our learner that we trained and asked it for the bias of the items listed here."
      ]
    }
  ]
}